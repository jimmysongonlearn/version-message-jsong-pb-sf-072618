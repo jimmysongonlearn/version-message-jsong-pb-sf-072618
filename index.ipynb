{
 "cells": [
  {
   "cell_type": "markdown",
   "metadata": {},
   "source": [
    "# Version Message"
   ]
  },
  {
   "cell_type": "markdown",
   "metadata": {},
   "source": [
    "### Test Driven Exercise"
   ]
  },
  {
   "cell_type": "code",
   "execution_count": 3,
   "metadata": {},
   "outputs": [],
   "source": [
    "# Exercise 2.1\n",
    "\n",
    "from io import BytesIO\n",
    "from network import VersionMessage\n",
    "from helper import (\n",
    "    encode_varint,\n",
    "    int_to_little_endian\n",
    ")\n",
    "\n",
    "class VersionMessage(VersionMessage):\n",
    "\n",
    "    def serialize(self):\n",
    "        '''Serialize this message to send over the network'''\n",
    "        # version is 4 bytes little endian\n",
    "        result = int_to_little_endian(self.version, 4)\n",
    "        # services is 8 bytes little endian\n",
    "        result += int_to_little_endian(self.services, 8)\n",
    "        # timestamp is 8 bytes little endian\n",
    "        result += int_to_little_endian(self.timestamp, 8)\n",
    "        # receiver services is 8 bytes little endian\n",
    "        result += int_to_little_endian(self.receiver_services, 8)\n",
    "        # IPV4 is 10 00 bytes and 2 ff bytes then receiver ip\n",
    "        result += b'\\x00' * 10 + b'\\xff\\xff' + self.receiver_ip\n",
    "        # receiver port is 2 bytes, little endian\n",
    "        result += int_to_little_endian(self.receiver_port, 2)\n",
    "        # sender services is 8 bytes little endian\n",
    "        result += int_to_little_endian(self.sender_services, 8)\n",
    "        # IPV4 is 10 00 bytes and 2 ff bytes then sender ip\n",
    "        result += b'\\x00' * 10 + b'\\xff\\xff' + self.sender_ip\n",
    "        # sender port is 2 bytes, little endian\n",
    "        result += int_to_little_endian(self.sender_port, 2)\n",
    "        # nonce\n",
    "        result += self.nonce\n",
    "        # useragent is a variable string, so varint first\n",
    "        \n",
    "        # latest block is 4 bytes little endian\n",
    "        # relay is 00 if false, 01 if true\n",
    "        pass"
   ]
  }
 ],
 "metadata": {
  "kernelspec": {
   "display_name": "Python 3",
   "language": "python",
   "name": "python3"
  },
  "language_info": {
   "codemirror_mode": {
    "name": "ipython",
    "version": 3
   },
   "file_extension": ".py",
   "mimetype": "text/x-python",
   "name": "python",
   "nbconvert_exporter": "python",
   "pygments_lexer": "ipython3",
   "version": "3.6.6"
  }
 },
 "nbformat": 4,
 "nbformat_minor": 2
}
